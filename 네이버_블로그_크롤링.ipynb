{
  "nbformat": 4,
  "nbformat_minor": 0,
  "metadata": {
    "colab": {
      "name": "네이버 블로그 크롤링.ipynb",
      "private_outputs": true,
      "provenance": [],
      "collapsed_sections": [],
      "machine_shape": "hm",
      "mount_file_id": "1cqvd0yjcJ6SystA3j18--V4qt-nwaHO5",
      "authorship_tag": "ABX9TyM25i6N5Ot8hpzpu/3cuJKf",
      "include_colab_link": true
    },
    "kernelspec": {
      "name": "python3",
      "display_name": "Python 3"
    },
    "language_info": {
      "name": "python"
    }
  },
  "cells": [
    {
      "cell_type": "markdown",
      "metadata": {
        "id": "view-in-github",
        "colab_type": "text"
      },
      "source": [
        "<a href=\"https://colab.research.google.com/github/kimx1201/movie_for_mood/blob/main/%EB%84%A4%EC%9D%B4%EB%B2%84_%EB%B8%94%EB%A1%9C%EA%B7%B8_%ED%81%AC%EB%A1%A4%EB%A7%81.ipynb\" target=\"_parent\"><img src=\"https://colab.research.google.com/assets/colab-badge.svg\" alt=\"Open In Colab\"/></a>"
      ]
    },
    {
      "cell_type": "code",
      "metadata": {
        "id": "OS_0J2KXa8TZ"
      },
      "source": [
        "!pip install selenium\n",
        "!apt-get update\n",
        "!apt install chromium-chromedriver"
      ],
      "execution_count": null,
      "outputs": []
    },
    {
      "cell_type": "code",
      "metadata": {
        "id": "vZn3ex7OazAD"
      },
      "source": [
        "from bs4 import BeautifulSoup\n",
        "import requests\n",
        "from selenium import webdriver\n",
        "import pandas as pd\n",
        "import numpy as np\n",
        "import html5lib\n",
        "from selenium.webdriver.common.keys import Keys\n",
        "import time\n",
        "from tqdm.notebook import tqdm\n",
        "from selenium.common.exceptions import NoSuchElementException\n",
        "from selenium import webdriver\n",
        "from selenium.webdriver.common.keys import Keys\n",
        "from selenium.webdriver.common.by import By"
      ],
      "execution_count": null,
      "outputs": []
    },
    {
      "cell_type": "code",
      "metadata": {
        "id": "XHYY2F5sa2o5"
      },
      "source": [
        "df = pd.read_excel('/content/drive/MyDrive/project6/KOBIS_개봉일람.xlsx')"
      ],
      "execution_count": null,
      "outputs": []
    },
    {
      "cell_type": "code",
      "metadata": {
        "id": "_XcwX2pobGNT"
      },
      "source": [
        "df.info()"
      ],
      "execution_count": null,
      "outputs": []
    },
    {
      "cell_type": "code",
      "metadata": {
        "id": "JDHv6ep0GZs2"
      },
      "source": [
        "df.head(3)"
      ],
      "execution_count": null,
      "outputs": []
    },
    {
      "cell_type": "code",
      "metadata": {
        "id": "xhkL68m6bOQL"
      },
      "source": [
        "df = df[df['전국관객수'] > 1000000]"
      ],
      "execution_count": null,
      "outputs": []
    },
    {
      "cell_type": "code",
      "metadata": {
        "id": "K4pe6ZhgHs4H"
      },
      "source": [
        "df"
      ],
      "execution_count": null,
      "outputs": []
    },
    {
      "cell_type": "code",
      "metadata": {
        "id": "2LqqLObKHdTX"
      },
      "source": [
        "list(df['영화명'])[0]"
      ],
      "execution_count": null,
      "outputs": []
    },
    {
      "cell_type": "code",
      "metadata": {
        "id": "5kfnU0mONKwp"
      },
      "source": [
        "query_txt = list(df['영화명'])\n",
        "start_date=\"20000101\"\n",
        "end_date=\"2021610\"\n",
        "q = '\"영화\"'"
      ],
      "execution_count": null,
      "outputs": []
    },
    {
      "cell_type": "code",
      "metadata": {
        "id": "TQP4xGTD0qot"
      },
      "source": [
        "path = 'chromedriver.exe'\n",
        "options = webdriver.ChromeOptions()\n",
        "options.add_argument('headless')    # 웹 브라우저를 띄우지 않는 headless chrome 옵션 적용\n",
        "options.add_argument('disable-gpu')    # GPU 사용 안함\n",
        "options.add_argument('lang=ko_KR')    # 언어 설정, options=options\n",
        "options.add_argument('no-sandbox')\n",
        "driver = webdriver.Chrome('chromedriver', options=options)"
      ],
      "execution_count": null,
      "outputs": []
    },
    {
      "cell_type": "code",
      "metadata": {
        "id": "Kg70biarKTnR"
      },
      "source": [
        "driver.get('http://www.naver.com')\n",
        "time.sleep(2)\n",
        "# 네이버 검색창에 검색어 검색\n",
        "element = driver.find_element_by_id('query')\n",
        "element.send_keys(\"영화\", list(df['영화명'])[0])  # query_txt는 위에서 입력한 '영화 리뷰'\n",
        "element.submit()\n",
        "\n",
        "# 블로그 카테고리 선택\n",
        "driver.find_element_by_link_text('블로그').click()\n",
        "\n",
        "#검색 \n",
        "\n",
        "driver.find_element_by_xpath('//*[@id=\"_search_option_btn\"]').click()\n",
        "time.sleep(1)\n",
        "\n",
        "#날짜 입력\n",
        "driver.find_element_by_xpath(\"\"\"//*[@id=\"snb\"]/div/ul/li[2]/a\"\"\").click()\n",
        "time.sleep(2)\n",
        "\n",
        "#날짜 입력\n",
        "s_date = driver.find_element_by_xpath(\"\"\"//*[@id=\"blog_input_period_begin\"]\"\"\")     \n",
        "driver.find_element_by_xpath(\"\"\"//*[@id=\"blog_input_period_begin\"]\"\"\").click()\n",
        "s_date.clear()  # 날짜 입력 부분에 기존에 입력되어 있던 날짜를 제거합니다. \n",
        "time.sleep(1)\n",
        "    \n",
        "# 아래 코드가 날짜를 for 반복문으로 1 글자씩 입력\n",
        "for c in start_date:\n",
        "    s_date.send_keys(c)\n",
        "    time.sleep(0.1)\n",
        "\n",
        "# 종료 날짜 입력\n",
        "e_date = driver.find_element_by_xpath(\"\"\"//*[@id=\"blog_input_period_end\"]\"\"\")\n",
        "driver.find_element_by_xpath(\"\"\"//*[@id=\"blog_input_period_end\"]\"\"\").click()\n",
        "e_date.clear()\n",
        "time.sleep(1)\n",
        "\n",
        "for c in end_date:\n",
        "    e_date.send_keys(c)\n",
        "    time.sleep(0.1)\n",
        "\n",
        "driver.find_element_by_class_name('tx').click()\n",
        "time.sleep(3)\n",
        "    \n",
        "driver.find_element_by_xpath(\"\"\"//*[@id=\"snb\"]/div/ul/li[1]\"\"\").click()\n",
        "driver.find_element_by_xpath(\"\"\"//*[@id=\"snb\"]/div/ul/li[1]/div/ul/li[1]/a\"\"\").click()\n",
        "time.sleep(1)\n",
        "    \n",
        "    \n",
        "url_list = []\n",
        "title_list = []\n",
        "title_list2 = []\n",
        "# 몇개의 페이지를 크롤링 할지 선택\n",
        "\n",
        "total_page = 1\n",
        "for j in tqdm(list(df['영화명'])[0:]) : \n",
        "    for i in range(total_page) : # 페이지 번호\n",
        "        i = i * 1 \n",
        "        url = \"https://search.naver.com/search.naver?date_from={0}&date_option=8&date_to={1}&dup_remove=1&nso=p%3Afrom{2}to{3}&post_blogurl=&post_blogurl_without=&query=영화%20{4}%20줄거리&sm=tab_pge&srchby=all&st=sim&where=post&start={5}\".format(start_date,end_date,start_date,end_date, j, i)\n",
        "        driver.get(url)\n",
        "        time.sleep(0.5)\n",
        "        \n",
        "# URL 크롤링 시작\n",
        "    titles = \"a.sh_blog_title._sp_each_url._sp_each_title\"\n",
        "    moive_raw = driver.find_elements_by_css_selector(titles)\n",
        "    count = 0\n",
        "    # url 크롤링 시작    \n",
        "    for movie in moive_raw[:4]: # url 4개만 긁음\n",
        "        url = movie.get_attribute('href')\n",
        "        url_list.append(url)\n",
        "        count += 1\n",
        "        if url == '' :\n",
        "          url_list.append('0')\n",
        "          print('0개')\n",
        "        else :\n",
        "            url_list.append(url)\n",
        "            print(count, url)\n",
        "     # 제목   \n",
        "    for movie in moive_raw[:4]: # 타이틀도 4개만 긁어옴\n",
        "        title = movie.get_attribute('title')   \n",
        "        title_list2.append(title)    \n",
        "\n",
        "        \n",
        "for i in list(df['영화명'])[0:] :\n",
        "    for j in range(1, 5) :\n",
        "        title_list.append(i)\n",
        "\n",
        "    \n",
        "print('url갯수: ', len(url_list))\n",
        "print('title갯수: ', len(title_list))\n",
        "\n",
        "\n",
        "\n",
        "df2 = pd.DataFrame({'url':url_list, 'title':title_list2})\n",
        "\n",
        "# # 저장하기\n",
        "df2.to_csv(\"blog_url2.csv\", encoding='utf-8-sig')"
      ],
      "execution_count": null,
      "outputs": []
    },
    {
      "cell_type": "code",
      "metadata": {
        "id": "qfwFcJoNKgPR"
      },
      "source": [
        ""
      ],
      "execution_count": null,
      "outputs": []
    }
  ]
}