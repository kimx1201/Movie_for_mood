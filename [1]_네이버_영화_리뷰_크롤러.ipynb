{
  "nbformat": 4,
  "nbformat_minor": 0,
  "metadata": {
    "colab": {
      "name": "[1] 네이버 영화 리뷰 크롤러.ipynb",
      "private_outputs": true,
      "provenance": [],
      "machine_shape": "hm",
      "mount_file_id": "1hmJ5UavuiGKl1VFaVCBN-VnBH8tR_4vG",
      "authorship_tag": "ABX9TyPZ1DgysqZGibCsQnZRlWUQ",
      "include_colab_link": true
    },
    "kernelspec": {
      "name": "python3",
      "display_name": "Python 3"
    },
    "language_info": {
      "name": "python"
    }
  },
  "cells": [
    {
      "cell_type": "markdown",
      "metadata": {
        "id": "view-in-github",
        "colab_type": "text"
      },
      "source": [
        "<a href=\"https://colab.research.google.com/github/kimx1201/movie_for_mood/blob/main/%5B1%5D_%EB%84%A4%EC%9D%B4%EB%B2%84_%EC%98%81%ED%99%94_%EB%A6%AC%EB%B7%B0_%ED%81%AC%EB%A1%A4%EB%9F%AC.ipynb\" target=\"_parent\"><img src=\"https://colab.research.google.com/assets/colab-badge.svg\" alt=\"Open In Colab\"/></a>"
      ]
    },
    {
      "cell_type": "code",
      "metadata": {
        "id": "ZMbSha_VcA4I"
      },
      "source": [
        "from google.colab import drive\n",
        "drive.mount('/content/drive')"
      ],
      "execution_count": null,
      "outputs": []
    },
    {
      "cell_type": "code",
      "metadata": {
        "id": "jG3TIEBGaiL5"
      },
      "source": [
        "!pip install selenium\n",
        "!apt-get update\n",
        "!apt install chromium-chromedriver"
      ],
      "execution_count": null,
      "outputs": []
    },
    {
      "cell_type": "code",
      "metadata": {
        "id": "sgRbykaxahT8"
      },
      "source": [
        "from selenium import webdriver\n",
        "import time\n",
        "import pandas as pd\n",
        "from tqdm.notebook import tqdm\n",
        "from selenium.common.exceptions import NoSuchElementException, ElementNotInteractableException\n",
        "from bs4 import BeautifulSoup\n",
        "import requests\n",
        "import numpy as np\n",
        "import html5lib\n",
        "from selenium.webdriver.common.keys import Keys\n",
        "import time\n",
        "from tqdm.notebook import tqdm\n",
        "from selenium.common.exceptions import NoSuchElementException\n",
        "from selenium import webdriver\n",
        "from selenium.webdriver.common.keys import Keys\n",
        "from selenium.webdriver.common.by import By"
      ],
      "execution_count": null,
      "outputs": []
    },
    {
      "cell_type": "code",
      "metadata": {
        "id": "wrb7LqWAgDXS"
      },
      "source": [
        "path = 'chromedriver.exe'\n",
        "options = webdriver.ChromeOptions()\n",
        "options.add_argument('headless')    # 웹 브라우저를 띄우지 않는 headless chrome 옵션 적용\n",
        "options.add_argument('disable-gpu')    # GPU 사용 안함\n",
        "options.add_argument('lang=ko_KR')    # 언어 설정, options=options\n",
        "options.add_argument('no-sandbox')\n",
        "driver = webdriver.Chrome('chromedriver', options=options)"
      ],
      "execution_count": null,
      "outputs": []
    },
    {
      "cell_type": "code",
      "metadata": {
        "id": "qbrqiUgghJcO"
      },
      "source": [
        "year = []\n",
        "name = []\n",
        "reviewcontext = []\n",
        "for i in tqdm(range(0, 20)) : #페이지수\n",
        "    url = \"https://movie.naver.com/movie/sdb/browsing/bmovie.nhn?open=2021&page=%d\"%(i+1) #페이지 넘기기\n",
        "    driver.get(url)\n",
        "    y = driver.find_elements_by_xpath('//*[@id=\"old_content\"]/ul/li')\n",
        "    for j in tqdm(range(0,len(y))):  #0,20\n",
        "        try :\n",
        "            driver.find_element_by_xpath('//*[@id=\"old_content\"]/ul/li[%d]/a'%(j+1)).click() #영화 선택\n",
        "            time.sleep(0.5)\n",
        "            driver.find_element_by_xpath('//*[@id=\"movieEndTabMenu\"]/li/a[@class=\"tab06 off\"]').click() #리뷰 메뉴 선택\n",
        "            time.sleep(0.5)\n",
        "            x = driver.find_elements_by_xpath('//*[@id=\"reviewTab\"]/div/div/ul/li') #리뷰 메뉴 개수\n",
        "            for k in range(0,len(x)) :\n",
        "                if len(x) == 0 :\n",
        "                    pass\n",
        "                try :\n",
        "                    driver.find_element_by_xpath('//*[@id=\"reviewTab\"]/div/div/ul/li[%d]/a'%(k+1)).click() #리뷰탭\n",
        "                except ElementNotInteractableException :\n",
        "                    driver.get(url)\n",
        "                time.sleep(0.5)\n",
        "                a = driver.find_element_by_xpath('//*[@id=\"content\"]/div/div[2]/div[1]/h3/a').text #영화이름\n",
        "                c = driver.find_element_by_xpath('//*[@id=\"content\"]/div[1]/div[4]/div[1]/div[4]').text #리뷰내용\n",
        "                name.append(a)\n",
        "                c = c.replace('\\n', '')\n",
        "                reviewcontext.append(c)\n",
        "                time.sleep(0.5)\n",
        "                driver.back()\n",
        "        except NoSuchElementException :\n",
        "            driver.get(url)"
      ],
      "execution_count": null,
      "outputs": []
    },
    {
      "cell_type": "code",
      "metadata": {
        "id": "j6zEXZ2RhLvS"
      },
      "source": [
        "movie2021 = pd.DataFrame(columns = ['year', 'name', 'reviewcontext'])\n",
        "movie2021['name'] = name\n",
        "movie2021['reviewcontext'] = reviewcontext\n",
        "movie2021['year'] = 2021"
      ],
      "execution_count": null,
      "outputs": []
    },
    {
      "cell_type": "code",
      "metadata": {
        "id": "fTgxPfy47rHr"
      },
      "source": [
        "movie2021"
      ],
      "execution_count": null,
      "outputs": []
    },
    {
      "cell_type": "code",
      "metadata": {
        "id": "_TMyp5cp-pXa"
      },
      "source": [
        "movie2021.to_csv('movie2021.csv', encoding='utf-8-sig', index = False)"
      ],
      "execution_count": null,
      "outputs": []
    }
  ]
}