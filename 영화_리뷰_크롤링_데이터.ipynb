{
  "nbformat": 4,
  "nbformat_minor": 0,
  "metadata": {
    "colab": {
      "name": "영화 리뷰 크롤링 데이터.ipynb",
      "private_outputs": true,
      "provenance": [],
      "mount_file_id": "1tgNBR8VJH_zGp2VKwgTdOrzGPlYjwCQL",
      "authorship_tag": "ABX9TyPBWvfhgFOEpMoGhTDGLXq5",
      "include_colab_link": true
    },
    "kernelspec": {
      "name": "python3",
      "display_name": "Python 3"
    },
    "language_info": {
      "name": "python"
    }
  },
  "cells": [
    {
      "cell_type": "markdown",
      "metadata": {
        "id": "view-in-github",
        "colab_type": "text"
      },
      "source": [
        "<a href=\"https://colab.research.google.com/github/kimx1201/movie_for_mood/blob/main/%EC%98%81%ED%99%94_%EB%A6%AC%EB%B7%B0_%ED%81%AC%EB%A1%A4%EB%A7%81_%EB%8D%B0%EC%9D%B4%ED%84%B0.ipynb\" target=\"_parent\"><img src=\"https://colab.research.google.com/assets/colab-badge.svg\" alt=\"Open In Colab\"/></a>"
      ]
    },
    {
      "cell_type": "code",
      "metadata": {
        "id": "WOz1FK_VGFvT"
      },
      "source": [
        "import pandas as pd"
      ],
      "execution_count": null,
      "outputs": []
    },
    {
      "cell_type": "code",
      "metadata": {
        "id": "GE5-WDNLElC_"
      },
      "source": [
        "movie11 = pd.read_csv('/content/drive/MyDrive/project6/review/movie2011.csv', index_col=0)\n",
        "movie12 = pd.read_csv('/content/drive/MyDrive/project6/review/movie2012.csv', index_col=0)\n",
        "movie14 = pd.read_csv('/content/drive/MyDrive/project6/review/movie2014.csv', index_col=0)\n",
        "movie15 = pd.read_csv('/content/drive/MyDrive/project6/review/movie2015.csv', index_col=0)\n",
        "movie16 = pd.read_csv('/content/drive/MyDrive/project6/review/movie2016.csv', index_col=0)\n",
        "movie17 = pd.read_csv('/content/drive/MyDrive/project6/review/movie2017.csv', index_col=0)\n",
        "movie18 = pd.read_csv('/content/drive/MyDrive/project6/review/movie2018.csv', index_col=0)\n",
        "movie19 = pd.read_csv('/content/drive/MyDrive/project6/review/movie2019.csv', index_col=0)\n",
        "movie20 = pd.read_csv('/content/drive/MyDrive/project6/review/movie2020.csv', index_col=0)\n",
        "movie10 = pd.read_csv('/content/drive/MyDrive/project6/review/movie2010.csv', index_col=0)"
      ],
      "execution_count": null,
      "outputs": []
    },
    {
      "cell_type": "code",
      "metadata": {
        "id": "r_jYnZijGDkF"
      },
      "source": [
        "movie11"
      ],
      "execution_count": null,
      "outputs": []
    },
    {
      "cell_type": "code",
      "metadata": {
        "id": "2GJAdexlGkkK"
      },
      "source": [
        "movie_final = pd.concat([movie10, movie11, movie12, movie14, movie15, movie16, movie17, movie18, movie19, movie20], axis=0)"
      ],
      "execution_count": null,
      "outputs": []
    },
    {
      "cell_type": "code",
      "metadata": {
        "id": "CmfYbmyGaq3W"
      },
      "source": [
        "movie_final"
      ],
      "execution_count": null,
      "outputs": []
    },
    {
      "cell_type": "code",
      "metadata": {
        "id": "3tlaQH4RaxRr"
      },
      "source": [
        "movie_final2 = movie_final.pivot_table(index='name', values='reviewcontext', aggfunc=sum)"
      ],
      "execution_count": null,
      "outputs": []
    },
    {
      "cell_type": "code",
      "metadata": {
        "id": "buqXgcG3a-g8"
      },
      "source": [
        "movie_final2"
      ],
      "execution_count": null,
      "outputs": []
    },
    {
      "cell_type": "code",
      "metadata": {
        "id": "XwNeOcUbbG-1"
      },
      "source": [
        "movie_fianl2.to_csv('movie_final2.csv', encoding='utf-8-sig')"
      ],
      "execution_count": null,
      "outputs": []
    }
  ]
}