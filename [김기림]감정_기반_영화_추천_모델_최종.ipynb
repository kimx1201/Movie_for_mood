{
  "nbformat": 4,
  "nbformat_minor": 0,
  "metadata": {
    "colab": {
      "name": "영화 추천 모델 최종",
      "private_outputs": true,
      "provenance": [],
      "collapsed_sections": [],
      "machine_shape": "hm"
    },
    "kernelspec": {
      "name": "python3",
      "display_name": "Python 3"
    },
    "language_info": {
      "name": "python"
    }
  },
  "cells": [
    {
      "cell_type": "code",
      "metadata": {
        "id": "jTIim4ii1ZAb"
      },
      "source": [
        "import pickle\n",
        "import pandas as pd\n",
        "import numpy as np\n",
        "\n",
        "with open('/content/drive/MyDrive/project6/movie_dict.pickle', 'rb') as f:\n",
        "    movie_dict = pickle.load(f)"
      ],
      "execution_count": null,
      "outputs": []
    },
    {
      "cell_type": "code",
      "metadata": {
        "id": "aHKZO7a924Bz"
      },
      "source": [
        "#pip install konlpy"
      ],
      "execution_count": null,
      "outputs": []
    },
    {
      "cell_type": "code",
      "metadata": {
        "id": "wTS9auCK3Ckf"
      },
      "source": [
        "#pip install fasttext"
      ],
      "execution_count": null,
      "outputs": []
    },
    {
      "cell_type": "code",
      "metadata": {
        "id": "lyqn6YxU3WrJ"
      },
      "source": [
        "#pip install selenium"
      ],
      "execution_count": null,
      "outputs": []
    },
    {
      "cell_type": "code",
      "metadata": {
        "id": "K4kJ83an21x-"
      },
      "source": [
        "import re\n",
        "import json\n",
        "import time\n",
        "import konlpy\n",
        "import gensim \n",
        "import glob, os\n",
        "import requests\n",
        "import fasttext\n",
        "import numpy as np\n",
        "import pandas as pd\n",
        "import seaborn as sns\n",
        "from glob import glob\n",
        "import urllib.request\n",
        "import matplotlib as mpl\n",
        "from matplotlib import rc\n",
        "from konlpy.tag import Mecab\n",
        "from bs4 import BeautifulSoup\n",
        "from tqdm.notebook import tqdm\n",
        "from collections import Counter\n",
        "import matplotlib.pyplot as plt\n",
        "from PIL import Image, ImageFilter\n",
        "from sklearn.manifold import TSNE\n",
        "from sklearn.cluster import KMeans\n",
        "import matplotlib.font_manager as fm\n",
        "from matplotlib import font_manager, rc\n",
        "from wordcloud import ImageColorGenerator\n",
        "from IPython.display import Image, display\n",
        "from sklearn.metrics import silhouette_score\n",
        "from selenium.webdriver.common.keys import Keys\n",
        "from gensim.models import Word2Vec, FastText, Doc2Vec\n",
        "from sklearn.metrics.pairwise import cosine_similarity\n",
        "from bokeh.plotting import figure, show, output_notebook\n",
        "from bokeh.models import HoverTool, ColumnDataSource, value\n",
        "from sklearn.feature_extraction.text import TfidfVectorizer\n",
        "from wordcloud import WordCloud, STOPWORDS as stopwords\n",
        "from selenium.webdriver.common.action_chains import ActionChains\n",
        "%matplotlib inline\n",
        "rc('font', family='AppleGothic')\n",
        "plt.rcParams['axes.unicode_minus'] = False\n",
        "pd.set_option(\"display.max_columns\", 100)\n",
        "pd.set_option(\"display.max_rows\", 100)"
      ],
      "execution_count": null,
      "outputs": []
    },
    {
      "cell_type": "code",
      "metadata": {
        "id": "nSDLDF691d_s"
      },
      "source": [
        "# 딕셔너리를 데이터 프레임화 하기\n",
        "df = pd.DataFrame(list(movie_dict.items()),columns = ['title','review'])"
      ],
      "execution_count": null,
      "outputs": []
    },
    {
      "cell_type": "code",
      "metadata": {
        "id": "BLJirKh2GR7D"
      },
      "source": [
        "stopwords = (\"/content/drive/MyDrive/project6/stopwords_final.txt\")"
      ],
      "execution_count": null,
      "outputs": []
    },
    {
      "cell_type": "code",
      "metadata": {
        "id": "zX8IxJ8C1n9H"
      },
      "source": [
        "okt = Okt()\n",
        "tokenized_data = []\n",
        "for sentence in df['review']:\n",
        "    temp_X = okt.morphs(sentence, stem=True) # 토큰화\n",
        "    temp_X = [word for word in temp_X if not word in stopwords] # 불용어 제거\n",
        "    tokenized_data.append(temp_X)"
      ],
      "execution_count": null,
      "outputs": []
    },
    {
      "cell_type": "code",
      "metadata": {
        "id": "G6zzVotbHHXh"
      },
      "source": [
        "# 리뷰 길이 분포 확인\n",
        "print('리뷰 최대 길이 :',max(len(l) for l in tokenized_data))\n",
        "print('리뷰의 평균 길이 :',sum(map(len, tokenized_data))/len(tokenized_data))\n",
        "plt.hist([len(s) for s in tokenized_data], bins=50)\n",
        "plt.xlabel('length of samples')\n",
        "plt.ylabel('number of samples')\n",
        "plt.show()"
      ],
      "execution_count": null,
      "outputs": []
    },
    {
      "cell_type": "code",
      "metadata": {
        "id": "ayB8l23fHSiV"
      },
      "source": [
        "tokenized_data"
      ],
      "execution_count": null,
      "outputs": []
    },
    {
      "cell_type": "code",
      "metadata": {
        "id": "n6mM7dhwfZZb"
      },
      "source": [
        "from sklearn.metrics.pairwise import cosine_similarity\n",
        "\n",
        "\n",
        "tfidf_vectorizer = TfidfVectorizer()\n",
        "\n",
        "# 데이터 리뷰 코퍼스 벡터화 \n",
        "tfidf_matrix = tfidf_vectorizer.fit_transform(df.review)\n",
        "\n",
        "# 코사인 유사도 \n",
        "cosine_sim = cosine_similarity(tfidf_matrix, tfidf_matrix)\n",
        "print(cosine_sim)"
      ],
      "execution_count": null,
      "outputs": []
    },
    {
      "cell_type": "code",
      "metadata": {
        "id": "7t-wAaZMf6EV"
      },
      "source": [
        "title_idx = pd.Series(df.index, index = df.title) # 영화 제목으로 인덱스만들기\n",
        "print(title_idx)"
      ],
      "execution_count": null,
      "outputs": []
    },
    {
      "cell_type": "code",
      "metadata": {
        "id": "lL5IQ079SJd3"
      },
      "source": [
        "def m_recommendation(title, cosine_sim=cosine_sim):\n",
        "   \n",
        "    tidx = title_idx[title]\n",
        "    #영화 제목을 입력하면 그 영화의 리뷰와 코사인 유사도가 높은 다른 영화를 받아온다.   \n",
        "    cosim_scores = list(enumerate(cosine_sim[tidx]))\n",
        "    cosim_scores = sorted(cosim_scores, key=lambda x:x[1], reverse = True) #점수가 높은 순으로 정렬\n",
        "    cosim_scores = cosim_scores[1:11] #유사도가 높은 10개의 영화를 받아옴\n",
        "    movie_idx = [i[0] for i in cosim_scores] #인덱스  \n",
        "    result = df.iloc[movie_idx].copy() #인덱스 값을 가져온다. \n",
        "\n",
        "    return result"
      ],
      "execution_count": null,
      "outputs": []
    },
    {
      "cell_type": "code",
      "metadata": {
        "id": "QXxeLTyRSMsE"
      },
      "source": [
        "m_recommendation('라라랜드')"
      ],
      "execution_count": null,
      "outputs": []
    },
    {
      "cell_type": "code",
      "metadata": {
        "id": "aTGg-or1jHYb"
      },
      "source": [
        "#model = Word2Vec(sentences = tokenized_data, size = 100, window = 5, min_count = 20, workers = 10, iter=200, sg = 1)"
      ],
      "execution_count": null,
      "outputs": []
    },
    {
      "cell_type": "code",
      "metadata": {
        "id": "9sQ1lmOB6uXI"
      },
      "source": [
        "model = Word2Vec.load('/content/drive/MyDrive/project6/modle2')"
      ],
      "execution_count": null,
      "outputs": []
    },
    {
      "cell_type": "code",
      "metadata": {
        "id": "cX0b6pYkLcWJ"
      },
      "source": [
        "model_result1 = model.wv.most_similar(\"친구\")\n",
        "print(model_result1)"
      ],
      "execution_count": null,
      "outputs": []
    }
  ]
}