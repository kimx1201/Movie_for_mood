{
  "nbformat": 4,
  "nbformat_minor": 0,
  "metadata": {
    "language_info": {
      "codemirror_mode": {
        "name": "ipython",
        "version": 3
      },
      "file_extension": ".py",
      "mimetype": "text/x-python",
      "name": "python",
      "nbconvert_exporter": "python",
      "pygments_lexer": "ipython3",
      "version": 3
    },
    "orig_nbformat": 2,
    "kernelspec": {
      "name": "python_defaultSpec_1595314798919",
      "display_name": "Python 3.7.7 64-bit"
    },
    "colab": {
      "name": "다음영화리뷰 크롤링.ipynb",
      "provenance": [],
      "include_colab_link": true
    }
  },
  "cells": [
    {
      "cell_type": "markdown",
      "metadata": {
        "id": "view-in-github",
        "colab_type": "text"
      },
      "source": [
        "<a href=\"https://colab.research.google.com/github/kimx1201/movie_for_mood/blob/main/%EB%8B%A4%EC%9D%8C%EC%98%81%ED%99%94%EB%A6%AC%EB%B7%B0_%ED%81%AC%EB%A1%A4%EB%A7%81.ipynb\" target=\"_parent\"><img src=\"https://colab.research.google.com/assets/colab-badge.svg\" alt=\"Open In Colab\"/></a>"
      ]
    },
    {
      "cell_type": "code",
      "metadata": {
        "id": "DJKR-OzlVMMa",
        "colab": {
          "base_uri": "https://localhost:8080/"
        },
        "outputId": "bdfea2a9-979e-4361-d815-018c8213fe26"
      },
      "source": [
        "pip install selenium"
      ],
      "execution_count": null,
      "outputs": [
        {
          "output_type": "stream",
          "text": [
            "Collecting selenium\n",
            "\u001b[?25l  Downloading https://files.pythonhosted.org/packages/80/d6/4294f0b4bce4de0abf13e17190289f9d0613b0a44e5dd6a7f5ca98459853/selenium-3.141.0-py2.py3-none-any.whl (904kB)\n",
            "\u001b[K     |████████████████████████████████| 911kB 5.3MB/s \n",
            "\u001b[?25hRequirement already satisfied: urllib3 in /usr/local/lib/python3.7/dist-packages (from selenium) (1.24.3)\n",
            "Installing collected packages: selenium\n",
            "Successfully installed selenium-3.141.0\n"
          ],
          "name": "stdout"
        }
      ]
    },
    {
      "cell_type": "code",
      "metadata": {
        "id": "F9RTmSN_U-BA"
      },
      "source": [
        "from bs4 import BeautifulSoup\n",
        "import requests\n",
        "from selenium import webdriver\n",
        "import pandas as pd\n",
        "import numpy as np\n",
        "import html5lib\n",
        "from selenium.webdriver.common.keys import Keys\n",
        "import time\n",
        "from tqdm.notebook import tqdm\n",
        "from selenium.common.exceptions import NoSuchElementException"
      ],
      "execution_count": null,
      "outputs": []
    },
    {
      "cell_type": "code",
      "metadata": {
        "id": "hjJVgMwOVCFm",
        "colab": {
          "base_uri": "https://localhost:8080/"
        },
        "outputId": "19c24a96-3dbd-4f1b-d652-94fb92584435"
      },
      "source": [
        "from google.colab import drive\n",
        "drive.mount('/content/drive')"
      ],
      "execution_count": null,
      "outputs": [
        {
          "output_type": "stream",
          "text": [
            "Drive already mounted at /content/drive; to attempt to forcibly remount, call drive.mount(\"/content/drive\", force_remount=True).\n"
          ],
          "name": "stdout"
        }
      ]
    },
    {
      "cell_type": "code",
      "metadata": {
        "id": "5oMNQ6nhU-BQ"
      },
      "source": [
        "movie_list = pd.read_excel('/content/drive/MyDrive/project6/KOBIS_개봉일람.xlsx', parse_dates=['개봉일'])"
      ],
      "execution_count": null,
      "outputs": []
    },
    {
      "cell_type": "code",
      "metadata": {
        "id": "WQPd6KOiVh2V"
      },
      "source": [
        "movie_list.to_csv(\"movie_list.csv\", header=False, index=False)"
      ],
      "execution_count": null,
      "outputs": []
    },
    {
      "cell_type": "code",
      "metadata": {
        "id": "YSbYt7g_XZBd",
        "colab": {
          "base_uri": "https://localhost:8080/",
          "height": 419
        },
        "outputId": "0b5bd92f-59b3-4d3f-e03f-0ecc6e14583d"
      },
      "source": [
        "movie_list"
      ],
      "execution_count": null,
      "outputs": [
        {
          "output_type": "execute_result",
          "data": {
            "text/html": [
              "<div>\n",
              "<style scoped>\n",
              "    .dataframe tbody tr th:only-of-type {\n",
              "        vertical-align: middle;\n",
              "    }\n",
              "\n",
              "    .dataframe tbody tr th {\n",
              "        vertical-align: top;\n",
              "    }\n",
              "\n",
              "    .dataframe thead th {\n",
              "        text-align: right;\n",
              "    }\n",
              "</style>\n",
              "<table border=\"1\" class=\"dataframe\">\n",
              "  <thead>\n",
              "    <tr style=\"text-align: right;\">\n",
              "      <th></th>\n",
              "      <th>순번</th>\n",
              "      <th>영화명</th>\n",
              "      <th>감독</th>\n",
              "      <th>개봉일</th>\n",
              "      <th>국적</th>\n",
              "      <th>전국관객수</th>\n",
              "      <th>장르</th>\n",
              "      <th>등급</th>\n",
              "    </tr>\n",
              "  </thead>\n",
              "  <tbody>\n",
              "    <tr>\n",
              "      <th>0</th>\n",
              "      <td>10577</td>\n",
              "      <td>초능력 에볼루션</td>\n",
              "      <td>존 라이드</td>\n",
              "      <td>2021-05-31</td>\n",
              "      <td>미국</td>\n",
              "      <td>35</td>\n",
              "      <td>SF</td>\n",
              "      <td>15세이상관람가</td>\n",
              "    </tr>\n",
              "    <tr>\n",
              "      <th>1</th>\n",
              "      <td>10753</td>\n",
              "      <td>스페이스 시그널</td>\n",
              "      <td>NaN</td>\n",
              "      <td>2021-05-31</td>\n",
              "      <td>미국</td>\n",
              "      <td>23</td>\n",
              "      <td>액션</td>\n",
              "      <td>12세이상관람가</td>\n",
              "    </tr>\n",
              "    <tr>\n",
              "      <th>2</th>\n",
              "      <td>12358</td>\n",
              "      <td>남친 옆에서 정사</td>\n",
              "      <td>이치고 타로와</td>\n",
              "      <td>2021-05-29</td>\n",
              "      <td>일본</td>\n",
              "      <td>1</td>\n",
              "      <td>멜로/로맨스</td>\n",
              "      <td>청소년관람불가</td>\n",
              "    </tr>\n",
              "    <tr>\n",
              "      <th>3</th>\n",
              "      <td>13472</td>\n",
              "      <td>발정난 그녀의 속사정</td>\n",
              "      <td>비바 곤조</td>\n",
              "      <td>2021-05-29</td>\n",
              "      <td>일본</td>\n",
              "      <td>1</td>\n",
              "      <td>멜로/로맨스</td>\n",
              "      <td>청소년관람불가</td>\n",
              "    </tr>\n",
              "    <tr>\n",
              "      <th>4</th>\n",
              "      <td>13501</td>\n",
              "      <td>밝히는 여자들:참을 수 없어</td>\n",
              "      <td>카부토가니</td>\n",
              "      <td>2021-05-29</td>\n",
              "      <td>일본</td>\n",
              "      <td>1</td>\n",
              "      <td>멜로/로맨스</td>\n",
              "      <td>청소년관람불가</td>\n",
              "    </tr>\n",
              "    <tr>\n",
              "      <th>...</th>\n",
              "      <td>...</td>\n",
              "      <td>...</td>\n",
              "      <td>...</td>\n",
              "      <td>...</td>\n",
              "      <td>...</td>\n",
              "      <td>...</td>\n",
              "      <td>...</td>\n",
              "      <td>...</td>\n",
              "    </tr>\n",
              "    <tr>\n",
              "      <th>17465</th>\n",
              "      <td>17207</td>\n",
              "      <td>여자들… 혹은 아이들 먼저…</td>\n",
              "      <td>마누엘 푀리에</td>\n",
              "      <td>NaT</td>\n",
              "      <td>프랑스</td>\n",
              "      <td>0</td>\n",
              "      <td>드라마</td>\n",
              "      <td>NaN</td>\n",
              "    </tr>\n",
              "    <tr>\n",
              "      <th>17466</th>\n",
              "      <td>17335</td>\n",
              "      <td>크리스마스 캐롤</td>\n",
              "      <td>지미 T. 무라카미</td>\n",
              "      <td>NaT</td>\n",
              "      <td>영국</td>\n",
              "      <td>0</td>\n",
              "      <td>애니메이션</td>\n",
              "      <td>12세관람가</td>\n",
              "    </tr>\n",
              "    <tr>\n",
              "      <th>17467</th>\n",
              "      <td>17359</td>\n",
              "      <td>통행증</td>\n",
              "      <td>베르트랑 타베르니에</td>\n",
              "      <td>NaT</td>\n",
              "      <td>프랑스</td>\n",
              "      <td>0</td>\n",
              "      <td>전쟁</td>\n",
              "      <td>NaN</td>\n",
              "    </tr>\n",
              "    <tr>\n",
              "      <th>17468</th>\n",
              "      <td>17382</td>\n",
              "      <td>패스트 푸드 패스트 우먼</td>\n",
              "      <td>아모스 콜렉</td>\n",
              "      <td>NaT</td>\n",
              "      <td>독일</td>\n",
              "      <td>0</td>\n",
              "      <td>코미디</td>\n",
              "      <td>기타</td>\n",
              "    </tr>\n",
              "    <tr>\n",
              "      <th>17469</th>\n",
              "      <td>17460</td>\n",
              "      <td>3 대 0</td>\n",
              "      <td>파비앙 오떼니엉뜨</td>\n",
              "      <td>NaT</td>\n",
              "      <td>프랑스</td>\n",
              "      <td>0</td>\n",
              "      <td>코미디</td>\n",
              "      <td>NaN</td>\n",
              "    </tr>\n",
              "  </tbody>\n",
              "</table>\n",
              "<p>17470 rows × 8 columns</p>\n",
              "</div>"
            ],
            "text/plain": [
              "          순번              영화명          감독  ... 전국관객수      장르        등급\n",
              "0      10577         초능력 에볼루션       존 라이드  ...    35      SF  15세이상관람가\n",
              "1      10753         스페이스 시그널         NaN  ...    23      액션  12세이상관람가\n",
              "2      12358        남친 옆에서 정사     이치고 타로와  ...     1  멜로/로맨스   청소년관람불가\n",
              "3      13472      발정난 그녀의 속사정       비바 곤조  ...     1  멜로/로맨스   청소년관람불가\n",
              "4      13501  밝히는 여자들:참을 수 없어       카부토가니  ...     1  멜로/로맨스   청소년관람불가\n",
              "...      ...              ...         ...  ...   ...     ...       ...\n",
              "17465  17207  여자들… 혹은 아이들 먼저…     마누엘 푀리에  ...     0     드라마       NaN\n",
              "17466  17335         크리스마스 캐롤  지미 T. 무라카미  ...     0   애니메이션    12세관람가\n",
              "17467  17359              통행증  베르트랑 타베르니에  ...     0      전쟁       NaN\n",
              "17468  17382    패스트 푸드 패스트 우먼      아모스 콜렉  ...     0     코미디        기타\n",
              "17469  17460            3 대 0   파비앙 오떼니엉뜨  ...     0     코미디       NaN\n",
              "\n",
              "[17470 rows x 8 columns]"
            ]
          },
          "metadata": {
            "tags": []
          },
          "execution_count": 23
        }
      ]
    },
    {
      "cell_type": "code",
      "metadata": {
        "tags": [],
        "id": "tpUNHNO6U-BQ",
        "colab": {
          "base_uri": "https://localhost:8080/",
          "height": 232
        },
        "outputId": "0065e11d-3cb0-4e48-a431-31fe3ca6f45a"
      },
      "source": [
        "for j in range(950, 1501, 50):\n",
        "    \n",
        "    movie_list = pd.read_csv('/content/drive/MyDrive/project6/movie_list.csv' %j)\n",
        "    result = {}\n",
        "\n",
        "\n",
        "    for title in tqdm(movie_list['영화명']):\n",
        "\n",
        "        options = webdriver.ChromeOptions()\n",
        "        options.add_argument('headless')    # 웹 브라우저를 띄우지 않는 headless chrome 옵션 적용\n",
        "        options.add_argument('disable-gpu')    # GPU 사용 안함\n",
        "        options.add_argument('lang=ko_KR')    # 언어 설정, options=options\n",
        "        driver = webdriver.Chrome('chromedriver', options = options)\n",
        "        driver.implicitly_wait(3)\n",
        "        driver.get('https://www.daum.net/')\n",
        "        driver.find_element_by_id('q').send_keys(title)\n",
        "        driver.find_element_by_id('q').send_keys(Keys.RETURN)\n",
        "\n",
        "        try:\n",
        "            driver.find_element_by_xpath('//*[@id=\"movieMoreBtn\"]').click()\n",
        "        \n",
        "            # time.sleep(1)\n",
        "            # 새로운 탭으로 초점을 전환\n",
        "            driver.switch_to_window(driver.window_handles[1])\n",
        "            base_url = driver.current_url\n",
        "            \n",
        "            review_list = []\n",
        "            for i in range(0, 10):\n",
        "                time.sleep(1)\n",
        "                an_url = '&type=netizen&page=%d' %(i+1)\n",
        "                url = base_url +an_url\n",
        "\n",
        "                res = requests.get(url)\n",
        "                soup =  BeautifulSoup(res.text, 'html.parser')\n",
        "                reviews = soup.find_all('p', {'class':'desc_review'})\n",
        "                # print(reviews)\n",
        "\n",
        "                for review in reviews :\n",
        "                    review_list.append(review.get_text().strip())\n",
        "\n",
        "            result[title] = review_list\n",
        "            driver.close()\n",
        "            driver.switch_to_window(driver.window_handles[0])\n",
        "            driver.close()\n",
        "            \n",
        "        except NoSuchElementException:\n",
        "            driver.close()\n",
        "\n",
        "\n",
        "    from pandas import DataFrame\n",
        "\n",
        "    df = DataFrame(result.items(), columns = ['movie_id' , 'reviews'])\n",
        "    df.to_csv('reviews/result_%d.csv' %(j/50), index =False, encoding='utf-8-sig') "
      ],
      "execution_count": null,
      "outputs": [
        {
          "output_type": "error",
          "ename": "TypeError",
          "evalue": "ignored",
          "traceback": [
            "\u001b[0;31m---------------------------------------------------------------------------\u001b[0m",
            "\u001b[0;31mTypeError\u001b[0m                                 Traceback (most recent call last)",
            "\u001b[0;32m<ipython-input-20-0d0215f36cc6>\u001b[0m in \u001b[0;36m<module>\u001b[0;34m()\u001b[0m\n\u001b[1;32m      1\u001b[0m \u001b[0;32mfor\u001b[0m \u001b[0mj\u001b[0m \u001b[0;32min\u001b[0m \u001b[0mrange\u001b[0m\u001b[0;34m(\u001b[0m\u001b[0;36m950\u001b[0m\u001b[0;34m,\u001b[0m \u001b[0;36m1501\u001b[0m\u001b[0;34m,\u001b[0m \u001b[0;36m50\u001b[0m\u001b[0;34m)\u001b[0m\u001b[0;34m:\u001b[0m\u001b[0;34m\u001b[0m\u001b[0;34m\u001b[0m\u001b[0m\n\u001b[1;32m      2\u001b[0m \u001b[0;34m\u001b[0m\u001b[0m\n\u001b[0;32m----> 3\u001b[0;31m     \u001b[0mmovie_list\u001b[0m \u001b[0;34m=\u001b[0m \u001b[0mpd\u001b[0m\u001b[0;34m.\u001b[0m\u001b[0mread_csv\u001b[0m\u001b[0;34m(\u001b[0m\u001b[0;34m'/content/drive/MyDrive/project6/movie_list.csv'\u001b[0m \u001b[0;34m%\u001b[0m\u001b[0mj\u001b[0m\u001b[0;34m)\u001b[0m\u001b[0;34m\u001b[0m\u001b[0;34m\u001b[0m\u001b[0m\n\u001b[0m\u001b[1;32m      4\u001b[0m     \u001b[0mresult\u001b[0m \u001b[0;34m=\u001b[0m \u001b[0;34m{\u001b[0m\u001b[0;34m}\u001b[0m\u001b[0;34m\u001b[0m\u001b[0;34m\u001b[0m\u001b[0m\n\u001b[1;32m      5\u001b[0m \u001b[0;34m\u001b[0m\u001b[0m\n",
            "\u001b[0;31mTypeError\u001b[0m: not all arguments converted during string formatting"
          ]
        }
      ]
    },
    {
      "cell_type": "code",
      "metadata": {
        "id": "igrjAR2jVZK6"
      },
      "source": [
        ""
      ],
      "execution_count": null,
      "outputs": []
    }
  ]
}
