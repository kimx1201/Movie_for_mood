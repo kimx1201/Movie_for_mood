{
  "nbformat": 4,
  "nbformat_minor": 0,
  "metadata": {
    "colab": {
      "name": "4. 코사인 유사도 추천 시스템.ipynb",
      "private_outputs": true,
      "provenance": [],
      "mount_file_id": "1LYGgvkUQ4WBZQdh9Rik_xid7xWjRqwEQ",
      "authorship_tag": "ABX9TyPQ94ni099XcRXoKxpuzJ90",
      "include_colab_link": true
    },
    "kernelspec": {
      "name": "python3",
      "display_name": "Python 3"
    },
    "language_info": {
      "name": "python"
    }
  },
  "cells": [
    {
      "cell_type": "markdown",
      "metadata": {
        "id": "view-in-github",
        "colab_type": "text"
      },
      "source": [
        "<a href=\"https://colab.research.google.com/github/kimx1201/movie_for_mood/blob/main/4_%EC%BD%94%EC%82%AC%EC%9D%B8_%EC%9C%A0%EC%82%AC%EB%8F%84_%EC%B6%94%EC%B2%9C_%EC%8B%9C%EC%8A%A4%ED%85%9C.ipynb\" target=\"_parent\"><img src=\"https://colab.research.google.com/assets/colab-badge.svg\" alt=\"Open In Colab\"/></a>"
      ]
    },
    {
      "cell_type": "code",
      "metadata": {
        "id": "_vkwxUGMy5-d"
      },
      "source": [
        "import pandas as pd\n",
        "import pickle\n",
        "from sklearn.metrics.pairwise import cosine_similarity\n",
        "from sklearn.feature_extraction.text import TfidfVectorizer"
      ],
      "execution_count": null,
      "outputs": []
    },
    {
      "cell_type": "code",
      "metadata": {
        "id": "V1YUOTjozMF8"
      },
      "source": [
        "df = pd.read_csv('/content/drive/MyDrive/project6/review/movie_clean_review')"
      ],
      "execution_count": null,
      "outputs": []
    },
    {
      "cell_type": "code",
      "metadata": {
        "id": "0JQylwPG0h0u"
      },
      "source": [
        "df.drop(['Unnamed: 0', 'reviewcontext'], axis=1, inplace=True)\n",
        "df = df.rename(columns={'clean_review':'리뷰'})"
      ],
      "execution_count": null,
      "outputs": []
    },
    {
      "cell_type": "code",
      "metadata": {
        "id": "cWwIc6lTIR-C"
      },
      "source": [
        "df"
      ],
      "execution_count": null,
      "outputs": []
    },
    {
      "cell_type": "code",
      "metadata": {
        "id": "gC9Psfk-DA-m"
      },
      "source": [
        "pip install konlpy"
      ],
      "execution_count": null,
      "outputs": []
    },
    {
      "cell_type": "code",
      "metadata": {
        "id": "yToeJHvg9ZjU"
      },
      "source": [
        "from sklearn.metrics.pairwise import cosine_similarity\n",
        "\n",
        "\n",
        "tfidf_vectorizer = TfidfVectorizer()\n",
        "\n",
        "# 데이터 리뷰 코퍼스 벡터화 \n",
        "tfidf_matrix = tfidf_vectorizer.fit_transform(df.리뷰)\n",
        "# 코사인 유사도 \n",
        "cosine_sim = cosine_similarity(tfidf_matrix, tfidf_matrix)\n",
        "print(cosine_sim)"
      ],
      "execution_count": null,
      "outputs": []
    },
    {
      "cell_type": "code",
      "metadata": {
        "id": "D4C5IU5XCpFQ"
      },
      "source": [
        "tfidf_matrix.shape"
      ],
      "execution_count": null,
      "outputs": []
    },
    {
      "cell_type": "code",
      "metadata": {
        "id": "3VpeZl7lHYZp"
      },
      "source": [
        "#코사인 유사도\n",
        "from sklearn.metrics.pairwise import linear_kernel\n",
        "cosine_sim = linear_kernel(tfidf_matrix, tfidf_matrix)"
      ],
      "execution_count": null,
      "outputs": []
    },
    {
      "cell_type": "code",
      "metadata": {
        "id": "qQaH3wjEHdoe"
      },
      "source": [
        "title_idx = pd.Series(df.index, index = df.영화명) # 영화 제목으로 인덱스만들기\n",
        "print(title_idx)"
      ],
      "execution_count": null,
      "outputs": []
    },
    {
      "cell_type": "code",
      "metadata": {
        "id": "Vqwkyu_fJZrf"
      },
      "source": [
        "df.to_csv(\"movie_review_cosine\")"
      ],
      "execution_count": null,
      "outputs": []
    },
    {
      "cell_type": "code",
      "metadata": {
        "id": "Dij4EeRCHgUY"
      },
      "source": [
        "# 코사인 기반 영화 추천시스템\n",
        "\n",
        "def m_recommendation(title, cosine_sim=cosine_sim):\n",
        "   \n",
        "    tidx = title_idx[title]\n",
        "    #영화 제목을 입력하면 그 영화의 리뷰와 코사인 유사도가 높은 다른 영화를 받아온다.   \n",
        "    cosim_scores = list(enumerate(cosine_sim[tidx]))\n",
        "    cosim_scores = sorted(cosim_scores, key=lambda x:x[1], reverse = True) #점수가 높은 순으로 정렬\n",
        "    cosim_scores = cosim_scores[1:11] #유사도가 높은 10개의 영화를 받아옴\n",
        "    movie_idx = [i[0] for i in cosim_scores] #인덱스  \n",
        "    result = df.iloc[movie_idx].copy() #인덱스 값을 가져온다.\n",
        "    result['유사도'] = [i[1] for i in cosim_scores] \n",
        "\n",
        "    return result"
      ],
      "execution_count": null,
      "outputs": []
    },
    {
      "cell_type": "code",
      "metadata": {
        "id": "EcaBzQbwHwzH"
      },
      "source": [
        "m_recommendation('라라랜드')"
      ],
      "execution_count": null,
      "outputs": []
    }
  ]
}