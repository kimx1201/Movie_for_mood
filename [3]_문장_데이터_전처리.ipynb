{
  "nbformat": 4,
  "nbformat_minor": 0,
  "metadata": {
    "colab": {
      "name": "[3] 문장 데이터 전처리",
      "private_outputs": true,
      "provenance": [],
      "collapsed_sections": [],
      "machine_shape": "hm",
      "mount_file_id": "16j154i9sMeKtzXWs7TnquEhXc6YYTRYF",
      "authorship_tag": "ABX9TyMEO4u58qICj+UP7oI03Gus",
      "include_colab_link": true
    },
    "kernelspec": {
      "name": "python3",
      "display_name": "Python 3"
    },
    "language_info": {
      "name": "python"
    }
  },
  "cells": [
    {
      "cell_type": "markdown",
      "metadata": {
        "id": "view-in-github",
        "colab_type": "text"
      },
      "source": [
        "<a href=\"https://colab.research.google.com/github/kimx1201/movie_for_mood/blob/main/%5B3%5D_%EB%AC%B8%EC%9E%A5_%EB%8D%B0%EC%9D%B4%ED%84%B0_%EC%A0%84%EC%B2%98%EB%A6%AC.ipynb\" target=\"_parent\"><img src=\"https://colab.research.google.com/assets/colab-badge.svg\" alt=\"Open In Colab\"/></a>"
      ]
    },
    {
      "cell_type": "code",
      "metadata": {
        "id": "-hMMv3WSquCV"
      },
      "source": [
        "import pandas as pd\n",
        "import numpy as np\n",
        "import re\n",
        "from konlpy.tag import Okt\n",
        "from konlpy.tag import Kkma\n",
        "from konlpy.tag import Mecab\n",
        "import seaborn as sns\n",
        "import matplotlib.pyplot as plt\n",
        "import tensorflow as tf\n",
        "from tensorflow.keras.preprocessing.text import Tokenizer\n",
        "from tensorflow.keras.preprocessing.sequence import pad_sequences\n",
        "from tensorflow.keras.models import Sequential\n",
        "%matplotlib inline"
      ],
      "execution_count": null,
      "outputs": []
    },
    {
      "cell_type": "code",
      "metadata": {
        "id": "xWkFfKVXnUJs"
      },
      "source": [
        "import time \n",
        "from tqdm.notebook import tqdm"
      ],
      "execution_count": null,
      "outputs": []
    },
    {
      "cell_type": "code",
      "metadata": {
        "id": "NNJDLft52p8m"
      },
      "source": [
        "%%capture\n",
        "\n",
        "# 코랩 한글 폰트 깨짐 방지\n",
        "!sudo apt-get install -y fonts-nanum\n",
        "!sudo fc-cache -fv\n",
        "!rm ~/.cache/matplotlib -rf"
      ],
      "execution_count": null,
      "outputs": []
    },
    {
      "cell_type": "code",
      "metadata": {
        "id": "hOwCt1nm2ki3"
      },
      "source": [
        "%%capture\n",
        "\n",
        "# konlpy on colab\n",
        "!pip install konlpy\n",
        "!bash install_mecab-ko_on_colab190912.sh\n",
        "# kerastuner\n",
        "!pip install keras-tuner"
      ],
      "execution_count": null,
      "outputs": []
    },
    {
      "cell_type": "code",
      "metadata": {
        "id": "rt5qBP5Gq8Pc"
      },
      "source": [
        "movie = pd.read_csv('/content/drive/MyDrive/project6/review/movie_final2.csv')"
      ],
      "execution_count": null,
      "outputs": []
    },
    {
      "cell_type": "code",
      "metadata": {
        "id": "b_tt7-FRq8cs"
      },
      "source": [
        "movie"
      ],
      "execution_count": null,
      "outputs": []
    },
    {
      "cell_type": "code",
      "metadata": {
        "id": "zK1Tik2LtTdm"
      },
      "source": [
        "stopwords = (\"/content/drive/MyDrive/project6/stopwords_final.txt\")"
      ],
      "execution_count": null,
      "outputs": []
    },
    {
      "cell_type": "code",
      "metadata": {
        "id": "_0fu9IzM12cR"
      },
      "source": [
        "def text_preprocessing(text):\n",
        "    txt = re.sub('[^가-힣a-zA-Z ]', '', text)\n",
        "    txt = re.sub('[ ]+', ' ', txt)\n",
        "    # txt = re.sub('[search,hk]', '', txt)\n",
        "    return txt"
      ],
      "execution_count": null,
      "outputs": []
    },
    {
      "cell_type": "code",
      "metadata": {
        "id": "EMDOJylYtvE3"
      },
      "source": [
        "from konlpy.tag import Okt\n",
        "okt = Okt()"
      ],
      "execution_count": null,
      "outputs": []
    },
    {
      "cell_type": "code",
      "metadata": {
        "id": "ZzKvguldtZOx"
      },
      "source": [
        "movie['clean'] = movie['reviewcontext'].apply(text_preprocessing)"
      ],
      "execution_count": null,
      "outputs": []
    },
    {
      "cell_type": "code",
      "metadata": {
        "id": "9FAB0Uswmqil"
      },
      "source": [
        "movie['word'] = 0\n",
        "for i in tqdm(range(0, len(movie))):\n",
        "    words = movie['clean'][i]\n",
        "    df = pd.DataFrame(okt.pos(words, norm=True, stem=True))\n",
        "    # # 명사, 형용사, 동사만 추출하기\n",
        "    try:\n",
        "        df = df[(df[1]=='Noun')|(df[1]=='Adjective')|(df[1]=='Verb')]\n",
        "        # # 2글자 이상인 단어만 가져와서 리스트 만들기\n",
        "        spword = []\n",
        "        for word in df[0]:\n",
        "            if len(word)>=2:\n",
        "                if word not in (stopwords): # 스탑워즈 제외하고 출력하기\n",
        "                    spword.append(word)\n",
        "        # 영화별로 정제된 단어들을 리스트화해서 영화리뷰 테이블의 word컬럼에 담기\n",
        "        a = pd.DataFrame(spword)[0].unique()\n",
        "        movie['word'][i] = a\n",
        "    except KeyError:\n",
        "        movie['word'][i] = \"\""
      ],
      "execution_count": null,
      "outputs": []
    },
    {
      "cell_type": "code",
      "metadata": {
        "id": "x0RitRhkaRVJ"
      },
      "source": [
        "movie = movie.rename(columns={'name':'영화명'})"
      ],
      "execution_count": null,
      "outputs": []
    },
    {
      "cell_type": "code",
      "metadata": {
        "id": "L4r03hm5lhbf"
      },
      "source": [
        "movie.head()"
      ],
      "execution_count": null,
      "outputs": []
    },
    {
      "cell_type": "code",
      "metadata": {
        "id": "gnX5AL2jwb6f"
      },
      "source": [
        "word = []\n",
        "for i in movie['word'] :\n",
        "    for j in range(len(i)) :\n",
        "        word2.append(i[j])"
      ],
      "execution_count": null,
      "outputs": []
    },
    {
      "cell_type": "code",
      "metadata": {
        "id": "SMGOfbtiwrJx"
      },
      "source": [
        "movie"
      ],
      "execution_count": null,
      "outputs": []
    },
    {
      "cell_type": "code",
      "metadata": {
        "id": "kqdxVShJkQWd"
      },
      "source": [
        "import pickle"
      ],
      "execution_count": null,
      "outputs": []
    },
    {
      "cell_type": "code",
      "metadata": {
        "id": "4DMnQU8hkdjn"
      },
      "source": [
        "movie_dict = {}\n",
        "for i in range(0, len(movie['word'])) :\n",
        "    movie_dict[movie['영화명'][i]] = movie['word'][i]"
      ],
      "execution_count": null,
      "outputs": []
    },
    {
      "cell_type": "code",
      "metadata": {
        "id": "s5hWi7BGkj3T"
      },
      "source": [
        "movie_dict"
      ],
      "execution_count": null,
      "outputs": []
    },
    {
      "cell_type": "code",
      "metadata": {
        "id": "ZzJSC5vswKYi"
      },
      "source": [
        "#저장하기\n",
        "with open('movie_dict.pickle', 'wb') as f:\n",
        "    pickle.dump(movie_dict, f, pickle.HIGHEST_PROTOCOL)"
      ],
      "execution_count": null,
      "outputs": []
    },
    {
      "cell_type": "code",
      "metadata": {
        "id": "YUS1q4Y4xabE"
      },
      "source": [
        "movie_dict['라라랜드']"
      ],
      "execution_count": null,
      "outputs": []
    }
  ]
}